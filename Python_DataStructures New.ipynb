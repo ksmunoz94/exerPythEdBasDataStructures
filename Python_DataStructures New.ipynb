{
  "cells": [
    {
      "cell_type": "markdown",
      "source": [
        "### Instructions\n",
        "\n",
        "* Sign up for the free course on Educative, __Learn Python 3 From Scratch__\n",
        "* https://www.educative.io/courses/learn-python-3-from-scratch\n",
        "* Complete the programming exercises below as you go through the course.\n",
        "* Delete or comment out the line of code in each cell which says `raise NotImplementedError()` and replace it with your own."
      ],
      "metadata": {
        "deletable": false,
        "editable": false,
        "nbgrader": {
          "cell_type": "markdown",
          "checksum": "32eb6bd7e28a2b0bb6ec5dc5d5959c6f",
          "grade": false,
          "grade_id": "cell-c8109e02ab39ceb9",
          "locked": true,
          "schema_version": 3,
          "solution": false,
          "task": false
        }
      },
      "id": "55e97b6c"
    },
    {
      "cell_type": "markdown",
      "source": [
        "# Educative - Data Structures\n",
        "\n",
        "https://www.educative.io/courses/learn-python-3-from-scratch/R8XkWmQNj8R"
      ],
      "metadata": {
        "deletable": false,
        "editable": false,
        "nbgrader": {
          "cell_type": "markdown",
          "checksum": "9d59652430bf65d1807859ddcd195714",
          "grade": false,
          "grade_id": "cell-6f98e8540361af73",
          "locked": true,
          "schema_version": 3,
          "solution": false,
          "task": false
        }
      },
      "id": "3b138bdf"
    },
    {
      "cell_type": "markdown",
      "source": [
        "### Exercises"
      ],
      "metadata": {
        "deletable": false,
        "editable": false,
        "nbgrader": {
          "cell_type": "markdown",
          "checksum": "3087cbd1dd0334908e4484d0dab9796c",
          "grade": false,
          "grade_id": "cell-42f66ab712f5e057",
          "locked": true,
          "schema_version": 3,
          "solution": false,
          "task": false
        }
      },
      "id": "846e7f7a"
    },
    {
      "cell_type": "markdown",
      "source": [
        "Write your answers as comments in the cell below.\n",
        "\n",
        "* What is the definition of a data structure in Python?"
      ],
      "metadata": {
        "deletable": false,
        "editable": false,
        "nbgrader": {
          "cell_type": "markdown",
          "checksum": "f49a71be0c46ad8995a5499e77bdc781",
          "grade": false,
          "grade_id": "cell-a685e604db01b852",
          "locked": true,
          "schema_version": 3,
          "solution": false,
          "task": false
        }
      },
      "id": "27a82597"
    },
    {
      "cell_type": "code",
      "source": [
        "# A data structure is a way of storing and organizing data according to a certain format or structure."
      ],
      "outputs": [],
      "execution_count": null,
      "metadata": {
        "deletable": false,
        "nbgrader": {
          "cell_type": "code",
          "checksum": "b62b65589a89551cbb6c610517d022eb",
          "grade": true,
          "grade_id": "cell-f734e88f25b52cc8",
          "locked": false,
          "points": 1,
          "schema_version": 3,
          "solution": true,
          "task": false
        }
      },
      "id": "1291b485"
    },
    {
      "cell_type": "markdown",
      "source": [
        "Write code in the cell below.\n",
        "\n",
        "* Create a list named `new_list`.\n",
        "* Make sure your list includes the following members: a string, an integer, a float, a boolean, another list.\n",
        "* Print your list.\n",
        "* Print the second item in your list.\n",
        "* Print the second item in your nested list."
      ],
      "metadata": {
        "deletable": false,
        "editable": false,
        "nbgrader": {
          "cell_type": "markdown",
          "checksum": "ef1de5e343b88f158375c505fecedee4",
          "grade": false,
          "grade_id": "cell-2f42b80dc230c766",
          "locked": true,
          "schema_version": 3,
          "solution": false,
          "task": false
        }
      },
      "id": "a08a0f9b"
    },
    {
      "cell_type": "code",
      "source": [
        "new_list = ([\"Hello\", 2, 3.24, 10 > 5, [\"red\", \"green\", \"blue\"]])\n",
        "print(new_list)\n",
        "\n",
        "print(new_list[1])\n",
        "print(new_list[4][1])"
      ],
      "outputs": [
        {
          "output_type": "stream",
          "name": "stdout",
          "text": [
            "['Hello', 2, 3.24, True, ['red', 'green', 'blue']]\n",
            "2\n",
            "green\n"
          ]
        }
      ],
      "execution_count": null,
      "metadata": {
        "deletable": false,
        "nbgrader": {
          "cell_type": "code",
          "checksum": "f7e7a580790a383051e394cdba0e90e5",
          "grade": true,
          "grade_id": "cell-7d3ae38ba790b24b",
          "locked": false,
          "points": 3,
          "schema_version": 3,
          "solution": true,
          "task": false
        },
        "noteable": {},
        "ExecuteTime": {
          "end_time": "2023-09-17T17:00:35.545151+00:00",
          "start_time": "2023-09-17T17:00:35.390188+00:00"
        }
      },
      "id": "52f133eb"
    },
    {
      "cell_type": "markdown",
      "source": [
        "Write code in the cell below.\n",
        "\n",
        "* Create a list named `second_list`.\n",
        "* Make sure your list includes the following members: a string, an integer, a float, a boolean, another list.\n",
        "* Print your list `new_list`.\n",
        "* Print your list `second_list`.\n",
        "* Create a list called `merged_list` which combines `new_list` and `second_list`.\n",
        "* Print `merged_list`."
      ],
      "metadata": {
        "deletable": false,
        "editable": false,
        "nbgrader": {
          "cell_type": "markdown",
          "checksum": "fa961ae177e4bc7fc559167e1f0f9efc",
          "grade": false,
          "grade_id": "cell-c1f5c5c37faffab0",
          "locked": true,
          "schema_version": 3,
          "solution": false,
          "task": false
        }
      },
      "id": "7f52c095"
    },
    {
      "cell_type": "code",
      "source": [
        "second_list = ([\"Goodbye\", 5, 10.3, 1 == 2, [1,2,4]])\n",
        "new_list = ([\"Hello\", 2, 3.24, 10 > 5, [\"red\", \"green\", \"blue\"]])\n",
        "print(new_list)\n",
        "print(second_list)\n",
        "\n",
        "merged_list = new_list + second_list\n",
        "print(merged_list)\n"
      ],
      "outputs": [
        {
          "output_type": "stream",
          "name": "stdout",
          "text": [
            "['Hello', 2, 3.24, True, ['red', 'green', 'blue']]\n",
            "['Goodbye', 5, 10.3, False, [1, 2, 4]]\n",
            "['Hello', 2, 3.24, True, ['red', 'green', 'blue'], 'Goodbye', 5, 10.3, False, [1, 2, 4]]\n"
          ]
        }
      ],
      "execution_count": null,
      "metadata": {
        "deletable": false,
        "nbgrader": {
          "cell_type": "code",
          "checksum": "39f0ef9fb4c976c23d907b676ce5a383",
          "grade": true,
          "grade_id": "cell-35cc6eb76000440d",
          "locked": false,
          "points": 1,
          "schema_version": 3,
          "solution": true,
          "task": false
        },
        "noteable": {},
        "ExecuteTime": {
          "start_time": "2023-09-17T18:16:09.866779+00:00",
          "end_time": "2023-09-17T18:16:10.023949+00:00"
        },
        "jupyter": {
          "outputs_hidden": false
        }
      },
      "id": "0efd19d5"
    },
    {
      "cell_type": "markdown",
      "source": [
        "Write code in the cell below.\n",
        "\n",
        "* Use the extend() property to add `new_list` to the end of `merged_list`.\n",
        "* Use the append() property to add the number 5 to the end of `merged_list`.\n",
        "* Use the insert() property to add the word `first` to the beginning of `merged_list`.\n",
        "* Print `merged_list`."
      ],
      "metadata": {
        "deletable": false,
        "editable": false,
        "nbgrader": {
          "cell_type": "markdown",
          "checksum": "2a050cd05d5e54c9528685c68ca7ec2b",
          "grade": false,
          "grade_id": "cell-6e8556854553b0ed",
          "locked": true,
          "schema_version": 3,
          "solution": false,
          "task": false
        }
      },
      "id": "c5570434"
    },
    {
      "cell_type": "code",
      "source": [
        "second_list = ([\"Goodbye\", 5, 10.3, 1 == 2, [1,2,4]])\n",
        "new_list = ([\"Hello\", 2, 3.24, 10 > 5, [\"red\", \"green\", \"blue\"]])\n",
        "merged_list = new_list + second_list  \n",
        "merged_list.extend(new_list)\n",
        "merged_list.append(5)\n",
        "merged_list.insert(0, \"first\")\n",
        "print(merged_list)"
      ],
      "outputs": [
        {
          "output_type": "stream",
          "name": "stdout",
          "text": [
            "['first', 'Hello', 2, 3.24, True, ['red', 'green', 'blue'], 'Goodbye', 5, 10.3, False, [1, 2, 4], 'Hello', 2, 3.24, True, ['red', 'green', 'blue'], 5]\n"
          ]
        }
      ],
      "execution_count": null,
      "metadata": {
        "deletable": false,
        "nbgrader": {
          "cell_type": "code",
          "checksum": "c536ed72b0ca2e37467a867569012c76",
          "grade": true,
          "grade_id": "cell-bfbf40233bdf84ec",
          "locked": false,
          "points": 4,
          "schema_version": 3,
          "solution": true,
          "task": false
        },
        "noteable": {},
        "ExecuteTime": {
          "start_time": "2023-09-17T18:17:06.969009+00:00",
          "end_time": "2023-09-17T18:17:07.124448+00:00"
        }
      },
      "id": "8a1ace45"
    },
    {
      "cell_type": "markdown",
      "source": [
        "Write code in the cell below.\n",
        "\n",
        "* Use the pop() operation to remove the last item from `merged_list`.\n",
        "* Use the remove() method to remove the word `first`.\n",
        "* Print `merged_list`.\n",
        "* Print the index for the float value in `merged_list`.\n",
        "* Verify the word `first` was removed from the list using the `not in` operator and printing the result."
      ],
      "metadata": {
        "deletable": false,
        "editable": false,
        "nbgrader": {
          "cell_type": "markdown",
          "checksum": "0f1a476d1adf89c05bb76c6796460976",
          "grade": false,
          "grade_id": "cell-b05e547e8d76f901",
          "locked": true,
          "schema_version": 3,
          "solution": false,
          "task": false
        }
      },
      "id": "0a1e22ab"
    },
    {
      "cell_type": "code",
      "source": [
        "merged_list = ([\"first\", \"Hello\", 2, 3.24, True, [\"red\", \"green\", \"blue\"], \"Goodbye\", 5, 10.3, False, [1, 2, 4], \"Hello\", 2, 3.24, True, [\"red\", \"green\", \"blue\"], 5])\n",
        "\n",
        "last_item = merged_list.pop()\n",
        "merged_list.remove(\"first\")\n",
        "print(merged_list)\n",
        "print(merged_list.index(3.24))\n",
        "\n",
        "\"first\" not in (merged_list)\n",
        "      \n"
      ],
      "outputs": [
        {
          "output_type": "stream",
          "name": "stdout",
          "text": [
            "['Hello', 2, 3.24, True, ['red', 'green', 'blue'], 'Goodbye', 5, 10.3, False, [1, 2, 4], 'Hello', 2, 3.24, True, ['red', 'green', 'blue']]\n",
            "2\n"
          ]
        },
        {
          "output_type": "execute_result",
          "execution_count": null,
          "data": {
            "text/plain": "True"
          },
          "metadata": {}
        }
      ],
      "execution_count": null,
      "metadata": {
        "deletable": false,
        "nbgrader": {
          "cell_type": "code",
          "checksum": "38ad672949bd315af6be58db2f11c2b6",
          "grade": true,
          "grade_id": "cell-70f90f816a266448",
          "locked": false,
          "points": 4,
          "schema_version": 3,
          "solution": true,
          "task": false
        },
        "noteable": {},
        "ExecuteTime": {
          "start_time": "2023-09-17T18:28:15.716939+00:00",
          "end_time": "2023-09-17T18:28:15.875126+00:00"
        }
      },
      "id": "6ea50639"
    },
    {
      "cell_type": "markdown",
      "source": [
        "Write code in the cell below.\n",
        "\n",
        "* Sort `num_list` using the sort() method and print the result."
      ],
      "metadata": {
        "deletable": false,
        "editable": false,
        "nbgrader": {
          "cell_type": "markdown",
          "checksum": "c3cc324f28823126d69cf324b686caba",
          "grade": false,
          "grade_id": "cell-8bce2ef97d3c7209",
          "locked": true,
          "schema_version": 3,
          "solution": false,
          "task": false
        }
      },
      "id": "35dd8291"
    },
    {
      "cell_type": "code",
      "source": [
        "num_list = [20, 40, 10, 50.4, 30, 100, 5]\n",
        "\n",
        "num_list.sort()\n",
        "print(num_list)"
      ],
      "outputs": [
        {
          "output_type": "stream",
          "name": "stdout",
          "text": [
            "[5, 10, 20, 30, 40, 50.4, 100]\n"
          ]
        }
      ],
      "execution_count": null,
      "metadata": {
        "deletable": false,
        "nbgrader": {
          "cell_type": "code",
          "checksum": "fc71ec3008432d27ed3ca28485e75450",
          "grade": true,
          "grade_id": "cell-09e875c829f98579",
          "locked": false,
          "points": 1,
          "schema_version": 3,
          "solution": true,
          "task": false
        },
        "noteable": {},
        "ExecuteTime": {
          "end_time": "2023-09-14T17:46:06.894774+00:00",
          "start_time": "2023-09-14T17:46:06.740430+00:00"
        }
      },
      "id": "1ecdaecd"
    },
    {
      "cell_type": "markdown",
      "source": [
        "Write code in the cell below.\n",
        "\n",
        "* Create a new list `nums_double` whose values are the twice the values of the existing `nums` list using a list comprehension.\n",
        "* Create a new list `nums_double_cond` whose values are the twice the values of the existing `nums` list using a list comprehension adding the condition that only elements divisible by 4 are included.\n",
        "* Print `nums`, `nums_double`, `nums_double_cond` on separate lines."
      ],
      "metadata": {
        "deletable": false,
        "editable": false,
        "nbgrader": {
          "cell_type": "markdown",
          "checksum": "aba36d21c0249b120b89793f425655f2",
          "grade": false,
          "grade_id": "cell-68888e79a7935974",
          "locked": true,
          "schema_version": 3,
          "solution": false,
          "task": false
        }
      },
      "id": "9fe01625"
    },
    {
      "cell_type": "code",
      "source": [
        "nums = [10, 20, 30, 40, 50]\n",
        "\n",
        "nums_double = [n * 2 for n in nums]\n",
        "\n",
        "print(nums)\n",
        "print(nums_double)\n",
        "\n",
        "\n",
        "nums_double_cond = [n *2 for n in nums if n % 4 == 0]\n",
        "\n",
        "print(nums_double_cond)\n"
      ],
      "outputs": [
        {
          "output_type": "stream",
          "name": "stdout",
          "text": [
            "[10, 20, 30, 40, 50]\n",
            "[20, 40, 60, 80, 100]\n",
            "[40, 80]\n"
          ]
        }
      ],
      "execution_count": null,
      "metadata": {
        "deletable": false,
        "nbgrader": {
          "cell_type": "code",
          "checksum": "fc8e2e956cde5fb07d3cb2d9d25ad21f",
          "grade": true,
          "grade_id": "cell-7031b9b7a165e88d",
          "locked": false,
          "points": 2,
          "schema_version": 3,
          "solution": true,
          "task": false
        },
        "noteable": {},
        "ExecuteTime": {
          "end_time": "2023-09-14T17:52:15.524813+00:00",
          "start_time": "2023-09-14T17:52:15.369765+00:00"
        }
      },
      "id": "933c83f5"
    },
    {
      "cell_type": "markdown",
      "source": [
        "Write code in the cell below.\n",
        "\n",
        "* Create a new tuple named `cities` which includes the cities `London`, `Paris`, `Los Angeles`, and `Tokyo`.\n",
        "* Print the index value for `Tokyo`."
      ],
      "metadata": {
        "deletable": false,
        "editable": false,
        "nbgrader": {
          "cell_type": "markdown",
          "checksum": "1a008af8cec4bf864ad11c61415cfd9d",
          "grade": false,
          "grade_id": "cell-799dad1b0a7d7b42",
          "locked": true,
          "schema_version": 3,
          "solution": false,
          "task": false
        }
      },
      "id": "d8ba678c"
    },
    {
      "cell_type": "code",
      "source": [
        "cities = (\"London\", \"Paris\", \"Los Angeles\", \"Tokyo\")\n",
        "print(cities[3])"
      ],
      "outputs": [
        {
          "output_type": "stream",
          "name": "stdout",
          "text": [
            "Tokyo\n"
          ]
        }
      ],
      "execution_count": null,
      "metadata": {
        "deletable": false,
        "nbgrader": {
          "cell_type": "code",
          "checksum": "7415a46ed9b0ca8c115d541e93a0ff65",
          "grade": true,
          "grade_id": "cell-796d472f8e062d47",
          "locked": false,
          "points": 1,
          "schema_version": 3,
          "solution": true,
          "task": false
        },
        "noteable": {},
        "ExecuteTime": {
          "end_time": "2023-09-14T17:54:56.524189+00:00",
          "start_time": "2023-09-14T17:54:56.368794+00:00"
        }
      },
      "id": "d1d96c96"
    },
    {
      "cell_type": "markdown",
      "source": [
        "Write your answer as a comment in the cell below.\n",
        "\n",
        "* What is the main difference between a list and a tuple?"
      ],
      "metadata": {
        "deletable": false,
        "editable": false,
        "nbgrader": {
          "cell_type": "markdown",
          "checksum": "1265db0786d49194de0b046539f1adb9",
          "grade": false,
          "grade_id": "cell-671f971fadb58e33",
          "locked": true,
          "schema_version": 3,
          "solution": false,
          "task": false
        }
      },
      "id": "9ac621de"
    },
    {
      "cell_type": "code",
      "source": [
        " # tuples are immutable objects, lists are mutable"
      ],
      "outputs": [],
      "execution_count": null,
      "metadata": {
        "deletable": false,
        "nbgrader": {
          "cell_type": "code",
          "checksum": "f43c7e3025bc9ee1c28d9c2031dfdd6b",
          "grade": true,
          "grade_id": "cell-6f2ca4054307e4b4",
          "locked": false,
          "points": 1,
          "schema_version": 3,
          "solution": true,
          "task": false
        }
      },
      "id": "a923ae46"
    },
    {
      "cell_type": "markdown",
      "source": [
        "Write code in the cell below.\n",
        "\n",
        "* Create an empty dictionary called `empty_dict`.\n",
        "* Print `empty_dict`.\n",
        "* Create a dictionary called `phone_book` which includes the key:value pairs - `Batman`:`468426, `Cersei`:`237734`, `Ghostbusters`:`44678`.\n",
        "* Pring `phone_book`."
      ],
      "metadata": {
        "deletable": false,
        "editable": false,
        "nbgrader": {
          "cell_type": "markdown",
          "checksum": "65c46eb90ea7a5974e947e6d895334fd",
          "grade": false,
          "grade_id": "cell-c506297ba6fd0303",
          "locked": true,
          "schema_version": 3,
          "solution": false,
          "task": false
        }
      },
      "id": "fe28ddcf"
    },
    {
      "cell_type": "code",
      "source": [
        "empty_dict = {}\n",
        "print(empty_dict)\n",
        "\n",
        "phone_book = {\"Batman\": 468426,\n",
        "              \"Cersei\": 237734,\n",
        "              \"Ghostbusters\": 44678}\n",
        "print(phone_book)"
      ],
      "outputs": [
        {
          "output_type": "stream",
          "name": "stdout",
          "text": [
            "{}\n",
            "{'Batman': 468426, 'Cersei': 237734, 'Ghostbusters': 44678}\n"
          ]
        }
      ],
      "execution_count": null,
      "metadata": {
        "deletable": false,
        "nbgrader": {
          "cell_type": "code",
          "checksum": "9ac62ae6b4c4bcda5e9fbfa950b58c1d",
          "grade": true,
          "grade_id": "cell-40b2608ed6cd7e8e",
          "locked": false,
          "points": 2,
          "schema_version": 3,
          "solution": true,
          "task": false
        },
        "noteable": {},
        "ExecuteTime": {
          "end_time": "2023-09-14T18:00:19.761320+00:00",
          "start_time": "2023-09-14T18:00:19.606341+00:00"
        }
      },
      "id": "d0daad85"
    },
    {
      "cell_type": "markdown",
      "source": [
        "Write code in the cell below.\n",
        "\n",
        "* Accomplish the tasks below using the dict() constructor.\n",
        "* Create an empty dictionary called `empty_dict`.\n",
        "* Print `empty_dict`.\n",
        "* Create a dictionary called `phone_book` which includes the key:value pairs - `Batman`:`468426, `Cersei`:`237734`, `Ghostbusters`:`44678`.\n",
        "* Pring `phone_book`."
      ],
      "metadata": {
        "deletable": false,
        "editable": false,
        "nbgrader": {
          "cell_type": "markdown",
          "checksum": "a0e4a9c4311d8797adf6c3b1ce9ab87f",
          "grade": false,
          "grade_id": "cell-ef93b1469a47dc39",
          "locked": true,
          "schema_version": 3,
          "solution": false,
          "task": false
        }
      },
      "id": "2edf8384"
    },
    {
      "cell_type": "code",
      "source": [
        "empty_dict = {}\n",
        "print(empty_dict)\n",
        "\n",
        "phone_book = {\"Batman\": 468426,\n",
        "              \"Cersei\": 237734,\n",
        "              \"Ghostbusters\": 44678}\n",
        "print(phone_book)"
      ],
      "outputs": [
        {
          "output_type": "stream",
          "name": "stdout",
          "text": [
            "{}\n",
            "{'Batman': 468426, 'Cersei': 237734, 'Ghostbusters': 44678}\n"
          ]
        }
      ],
      "execution_count": null,
      "metadata": {
        "deletable": false,
        "nbgrader": {
          "cell_type": "code",
          "checksum": "a0e88c6c3b9d6ba044778f8e51427f92",
          "grade": true,
          "grade_id": "cell-5e3ba70e02f407e9",
          "locked": false,
          "points": 2,
          "schema_version": 3,
          "solution": true,
          "task": false
        },
        "noteable": {},
        "ExecuteTime": {
          "end_time": "2023-09-14T18:01:03.126856+00:00",
          "start_time": "2023-09-14T18:01:02.971296+00:00"
        }
      },
      "id": "bd7c39e8"
    },
    {
      "cell_type": "markdown",
      "source": [
        "Write code in the cell below.\n",
        "\n",
        "* Print the number for `Cersei` by referencing the key.\n",
        "* Print the number for `Ghostbusters` using the get() method."
      ],
      "metadata": {
        "deletable": false,
        "editable": false,
        "nbgrader": {
          "cell_type": "markdown",
          "checksum": "628d3247275233f5c6580aef64a710a2",
          "grade": false,
          "grade_id": "cell-8a6a167b3c160bda",
          "locked": true,
          "schema_version": 3,
          "solution": false,
          "task": false
        }
      },
      "id": "0550dbb2"
    },
    {
      "cell_type": "code",
      "source": [
        "phone_book = {\"Batman\": 468426,\n",
        "              \"Cersei\": 237734,\n",
        "              \"Ghostbusters\": 44678}\n",
        "print(phone_book[\"Cersei\"])\n",
        "print(phone_book.get(\"Ghostbusters\"))"
      ],
      "outputs": [
        {
          "output_type": "stream",
          "name": "stdout",
          "text": [
            "237734\n",
            "44678\n"
          ]
        }
      ],
      "execution_count": null,
      "metadata": {
        "deletable": false,
        "nbgrader": {
          "cell_type": "code",
          "checksum": "b00edfed0eb1add5a8fb72f047f6a13a",
          "grade": true,
          "grade_id": "cell-5b83aa8d7c227780",
          "locked": false,
          "points": 1,
          "schema_version": 3,
          "solution": true,
          "task": false
        },
        "noteable": {},
        "ExecuteTime": {
          "end_time": "2023-09-14T18:03:10.381332+00:00",
          "start_time": "2023-09-14T18:03:10.225860+00:00"
        }
      },
      "id": "c7091716"
    },
    {
      "cell_type": "markdown",
      "source": [
        "Write code in the cell below.\n",
        "\n",
        "* Add the number `46394` for `Godzilla` to `phone_book`.\n",
        "* Print `phone_book`.\n",
        "* Update the number for `Godzilla` to `9000`.\n",
        "* Print `phone_book`.\n",
        "* Delete the entry for `Batman` from `phone_book`\n",
        "* Print `phone_book`.\n",
        "* Add the contents of `second_phone_book` to `phone_book` using the update() operation.\n",
        "* Print `phone_book`."
      ],
      "metadata": {
        "deletable": false,
        "editable": false,
        "nbgrader": {
          "cell_type": "markdown",
          "checksum": "5a11fd26b9d2e97d64b174b3ce297f2c",
          "grade": false,
          "grade_id": "cell-e9d8a7899f0549ed",
          "locked": true,
          "schema_version": 3,
          "solution": false,
          "task": false
        }
      },
      "id": "1fe05e58"
    },
    {
      "cell_type": "code",
      "source": [
        "second_phone_book = {\"Catwoman\": 67423, \"Jaime\": 237734, \"Godzilla\": 37623}\n",
        "\n",
        "phone_book = {\"Batman\": 468426,\n",
        "              \"Cersei\": 237734,\n",
        "              \"Ghostbusters\" : 44678}\n",
        "print(phone_book)\n",
        "\n",
        "phone_book[\"Godzilla\"] = 46394\n",
        "print(phone_book)\n",
        "\n",
        "phone_book[\"Godzilla\"] = 9000\n",
        "print(phone_book)\n",
        "\n",
        "del phone_book[\"Batman\"]\n",
        "print(phone_book)\n",
        "\n",
        "phone_book.update(second_phone_book)\n",
        "print(phone_book)"
      ],
      "outputs": [
        {
          "output_type": "stream",
          "name": "stdout",
          "text": [
            "{'Batman': 468426, 'Cersei': 237734, 'Ghostbusters': 44678}\n",
            "{'Batman': 468426, 'Cersei': 237734, 'Ghostbusters': 44678, 'Godzilla': 46394}\n",
            "{'Batman': 468426, 'Cersei': 237734, 'Ghostbusters': 44678, 'Godzilla': 9000}\n",
            "{'Cersei': 237734, 'Ghostbusters': 44678, 'Godzilla': 9000}\n",
            "{'Cersei': 237734, 'Ghostbusters': 44678, 'Godzilla': 37623, 'Catwoman': 67423, 'Jaime': 237734}\n"
          ]
        }
      ],
      "execution_count": null,
      "metadata": {
        "deletable": false,
        "nbgrader": {
          "cell_type": "code",
          "checksum": "30d8c2e2a236421c4b5cd0c72cbf0042",
          "grade": true,
          "grade_id": "cell-5e91d3ea594d9a17",
          "locked": false,
          "points": 5,
          "schema_version": 3,
          "solution": true,
          "task": false
        },
        "noteable": {},
        "ExecuteTime": {
          "end_time": "2023-09-15T02:19:11.008974+00:00",
          "start_time": "2023-09-15T02:19:10.853079+00:00"
        }
      },
      "id": "40a60788"
    },
    {
      "cell_type": "markdown",
      "source": [
        "Write code in the cell below.\n",
        "\n",
        "* Create a set called `random_set` containing the following items: `\"Educative\", 1408, 3.142, (True, False)`.\n",
        "* Print `random_set`.\n",
        "* Create an empty set called `empty_set` using the set() constructor.\n",
        "* Print `empty_set`.\n",
        "* Add `1` to `empty_set`.\n",
        "* Print `empty_set`.\n",
        "* Add the list `[2, 3, 4, 5, 6]` to `empty_set`.\n",
        "* Print `empty_set`."
      ],
      "metadata": {
        "deletable": false,
        "editable": false,
        "nbgrader": {
          "cell_type": "markdown",
          "checksum": "077a21c4850f326aec596eca85a80b3c",
          "grade": false,
          "grade_id": "cell-96ca4c6390945f52",
          "locked": true,
          "schema_version": 3,
          "solution": false,
          "task": false
        }
      },
      "id": "7c07c0ab"
    },
    {
      "cell_type": "code",
      "source": [
        "random_set = set({\"Educative\", 1408, 3.142, (True, False)})\n",
        "print(random_set)\n",
        "\n",
        "empty_set = set()\n",
        "print(empty_set)\n",
        "\n",
        "empty_set.add(1)\n",
        "print(empty_set)\n",
        "\n",
        "empty_set.update([2,3,4,5,6])\n",
        "print(empty_set)\n"
      ],
      "outputs": [
        {
          "output_type": "stream",
          "name": "stdout",
          "text": [
            "{1408, (True, False), 3.142, 'Educative'}\n",
            "set()\n",
            "{1}\n",
            "{1, 2, 3, 4, 5, 6}\n"
          ]
        }
      ],
      "execution_count": null,
      "metadata": {
        "deletable": false,
        "nbgrader": {
          "cell_type": "code",
          "checksum": "6345f33d2ca0fba486866e524db294b1",
          "grade": true,
          "grade_id": "cell-50ede6fbcd4da8f1",
          "locked": false,
          "points": 4,
          "schema_version": 3,
          "solution": true,
          "task": false
        },
        "noteable": {},
        "ExecuteTime": {
          "end_time": "2023-09-17T03:26:06.945421+00:00",
          "start_time": "2023-09-17T03:26:06.788977+00:00"
        }
      },
      "id": "69021f25"
    },
    {
      "cell_type": "markdown",
      "source": [
        "Write code in the cell below.\n",
        "\n",
        "* Find the union of `set_A` and `set_B` and print the results."
      ],
      "metadata": {
        "deletable": false,
        "editable": false,
        "nbgrader": {
          "cell_type": "markdown",
          "checksum": "20dd6e70e8ce057df4e4e7a969c45c57",
          "grade": false,
          "grade_id": "cell-8899d56c98da3f73",
          "locked": true,
          "schema_version": 3,
          "solution": false,
          "task": false
        }
      },
      "id": "dd62f0e0"
    },
    {
      "cell_type": "code",
      "source": [
        "set_A = {1, 2, 3, 4}\n",
        "set_B = {'a', 'b', 'c', 'd'}\n",
        "\n",
        "print(set_A | set_B)"
      ],
      "outputs": [
        {
          "output_type": "stream",
          "name": "stdout",
          "text": [
            "{1, 2, 3, 4, 'd', 'c', 'b', 'a'}\n"
          ]
        }
      ],
      "execution_count": null,
      "metadata": {
        "deletable": false,
        "nbgrader": {
          "cell_type": "code",
          "checksum": "9d8adc92ccb29f507ba2576621518f02",
          "grade": true,
          "grade_id": "cell-c9856ffe4fd204d1",
          "locked": false,
          "points": 1,
          "schema_version": 3,
          "solution": true,
          "task": false
        },
        "noteable": {},
        "ExecuteTime": {
          "end_time": "2023-09-17T03:28:30.291988+00:00",
          "start_time": "2023-09-17T03:28:30.137431+00:00"
        }
      },
      "id": "573001eb"
    },
    {
      "cell_type": "markdown",
      "source": [
        "Write code in the cell below.\n",
        "\n",
        "* Find the intersection of `set_A` and `set_B` and print the results."
      ],
      "metadata": {
        "deletable": false,
        "editable": false,
        "nbgrader": {
          "cell_type": "markdown",
          "checksum": "750e1a134627a6e1abc44a04106588b1",
          "grade": false,
          "grade_id": "cell-fea658041d75820e",
          "locked": true,
          "schema_version": 3,
          "solution": false,
          "task": false
        }
      },
      "id": "0d886b94"
    },
    {
      "cell_type": "code",
      "source": [
        "set_A = {1, 2, 3, 4}\n",
        "set_B = {'a', 'b', 'c', 'd'}\n",
        "\n",
        "print(set_A.intersection(set_B))"
      ],
      "outputs": [
        {
          "output_type": "stream",
          "name": "stdout",
          "text": [
            "set()\n"
          ]
        }
      ],
      "execution_count": null,
      "metadata": {
        "deletable": false,
        "nbgrader": {
          "cell_type": "code",
          "checksum": "ceb790751ff49a3e24bd0f3d58fdd7f5",
          "grade": true,
          "grade_id": "cell-08044fdca3bdea99",
          "locked": false,
          "points": 1,
          "schema_version": 3,
          "solution": true,
          "task": false
        },
        "noteable": {},
        "ExecuteTime": {
          "end_time": "2023-09-17T03:33:18.210800+00:00",
          "start_time": "2023-09-17T03:33:18.055331+00:00"
        }
      },
      "id": "09a4cdf7"
    },
    {
      "cell_type": "markdown",
      "source": [
        "Write code in the cell below.\n",
        "\n",
        "* Find the members of `set_A` that are not included in `set_B` and print the results.\n",
        "* Find the members of `set_B` that are not included in `set_A` and print the results."
      ],
      "metadata": {
        "deletable": false,
        "editable": false,
        "nbgrader": {
          "cell_type": "markdown",
          "checksum": "972c5b7363d4d82b0e1237efbd350752",
          "grade": false,
          "grade_id": "cell-491e809f170a6edb",
          "locked": true,
          "schema_version": 3,
          "solution": false,
          "task": false
        }
      },
      "id": "f08a4b19"
    },
    {
      "cell_type": "code",
      "source": [
        "set_A = {1, 2, 3, 4}\n",
        "set_B = {2, 8, 4, 16}\n",
        "\n",
        "print(set_A - set_B)\n",
        "print(set_B -set_A)"
      ],
      "outputs": [
        {
          "output_type": "stream",
          "name": "stdout",
          "text": [
            "{1, 3}\n",
            "{8, 16}\n"
          ]
        }
      ],
      "execution_count": null,
      "metadata": {
        "deletable": false,
        "nbgrader": {
          "cell_type": "code",
          "checksum": "bb797e92e4c53af1d25bb2625022f169",
          "grade": true,
          "grade_id": "cell-5661f3907ff48fd0",
          "locked": false,
          "points": 2,
          "schema_version": 3,
          "solution": true,
          "task": false
        },
        "noteable": {},
        "ExecuteTime": {
          "end_time": "2023-09-17T03:34:52.811559+00:00",
          "start_time": "2023-09-17T03:34:52.656838+00:00"
        }
      },
      "id": "23861748"
    },
    {
      "cell_type": "markdown",
      "source": [
        "Write code in the cell below.\n",
        "\n",
        "* Convert the following data structures into a list and print the result for each conversion."
      ],
      "metadata": {
        "deletable": false,
        "editable": false,
        "nbgrader": {
          "cell_type": "markdown",
          "checksum": "0a66622303143ca436e1f3671a1a8f55",
          "grade": false,
          "grade_id": "cell-cc7106166de16529",
          "locked": true,
          "schema_version": 3,
          "solution": false,
          "task": false
        }
      },
      "id": "f3c144f5"
    },
    {
      "cell_type": "code",
      "source": [
        "star_wars_tup = (\"Anakin\", \"Darth Vader\", 1000)\n",
        "print(star_wars_tup)\n",
        "star_wars_set = {\"Anakin\", \"Darth Vader\", 1000}\n",
        "print(star_wars_set)\n",
        "star_wars_dict = {1: \"Anakin\", 2: \"Darth Vader\", 3: 1000}\n",
        "print(star_wars_dict)\n",
        "\n",
        "star_wars_list = list(star_wars_tup)\n",
        "print(star_wars_list)\n",
        "\n",
        "star_wars_list = list(star_wars_set)\n",
        "print(star_wars_list)\n",
        "\n",
        "star_wars_list = list(star_wars_dict)\n",
        "print(star_wars_list)\n",
        "\n"
      ],
      "outputs": [
        {
          "output_type": "stream",
          "name": "stdout",
          "text": [
            "('Anakin', 'Darth Vader', 1000)\n",
            "{'Darth Vader', 1000, 'Anakin'}\n",
            "{1: 'Anakin', 2: 'Darth Vader', 3: 1000}\n",
            "['Anakin', 'Darth Vader', 1000]\n",
            "['Darth Vader', 1000, 'Anakin']\n",
            "[1, 2, 3]\n"
          ]
        }
      ],
      "execution_count": null,
      "metadata": {
        "deletable": false,
        "nbgrader": {
          "cell_type": "code",
          "checksum": "bf2c5cd3b963cadf8ddfbfd14639baa2",
          "grade": true,
          "grade_id": "cell-3be5f04d2dedad28",
          "locked": false,
          "points": 1,
          "schema_version": 3,
          "solution": true,
          "task": false
        },
        "noteable": {},
        "ExecuteTime": {
          "end_time": "2023-09-17T03:40:13.166863+00:00",
          "start_time": "2023-09-17T03:40:13.010958+00:00"
        }
      },
      "id": "bf1a4dc3"
    },
    {
      "cell_type": "markdown",
      "source": [
        "Write code in the cell below.\n",
        "\n",
        "* Convert the following data structures into a tuple and print the result for each conversion."
      ],
      "metadata": {
        "deletable": false,
        "editable": false,
        "nbgrader": {
          "cell_type": "markdown",
          "checksum": "e44cd867128c525b9e4d3a43a8ad237f",
          "grade": false,
          "grade_id": "cell-c10bf1a1d375e693",
          "locked": true,
          "schema_version": 3,
          "solution": false,
          "task": false
        }
      },
      "id": "d9c61de4"
    },
    {
      "cell_type": "code",
      "source": [
        "star_wars_list = [\"Anakin\", \"Darth Vader\", 1000]\n",
        "print(star_wars_list)\n",
        "star_wars_set = {\"Anakin\", \"Darth Vader\", 1000}\n",
        "print(star_wars_set)\n",
        "star_wars_dict = {1: \"Anakin\", 2: \"Darth Vader\", 3: 1000}\n",
        "print(star_wars_dict)\n",
        "\n",
        "star_wars_tup = tuple(star_wars_list)\n",
        "print(star_wars_tup)\n",
        "\n",
        "star_wars_tup = tuple(star_wars_set)\n",
        "print(star_wars_tup)\n",
        "\n",
        "star_wars_tup = tuple(star_wars_dict)\n",
        "print(star_wars_tup)"
      ],
      "outputs": [
        {
          "output_type": "stream",
          "name": "stdout",
          "text": [
            "['Anakin', 'Darth Vader', 1000]\n",
            "{'Darth Vader', 1000, 'Anakin'}\n",
            "{1: 'Anakin', 2: 'Darth Vader', 3: 1000}\n",
            "('Anakin', 'Darth Vader', 1000)\n",
            "('Darth Vader', 1000, 'Anakin')\n",
            "(1, 2, 3)\n"
          ]
        }
      ],
      "execution_count": null,
      "metadata": {
        "deletable": false,
        "nbgrader": {
          "cell_type": "code",
          "checksum": "f972217cb2ebd4e14bbb795bcdbd31ae",
          "grade": true,
          "grade_id": "cell-61a872cdc1d566de",
          "locked": false,
          "points": 1,
          "schema_version": 3,
          "solution": true,
          "task": false
        },
        "noteable": {},
        "ExecuteTime": {
          "end_time": "2023-09-17T03:46:58.800548+00:00",
          "start_time": "2023-09-17T03:46:58.643631+00:00"
        }
      },
      "id": "311be910"
    },
    {
      "cell_type": "markdown",
      "source": [
        "Write code in the cell below.\n",
        "\n",
        "* Convert the following data structures into a set and print the result for each conversion."
      ],
      "metadata": {
        "deletable": false,
        "editable": false,
        "nbgrader": {
          "cell_type": "markdown",
          "checksum": "ebc887a4f0b541b27d847dc49ec816e7",
          "grade": false,
          "grade_id": "cell-22697e12093ece32",
          "locked": true,
          "schema_version": 3,
          "solution": false,
          "task": false
        }
      },
      "id": "14fc5fe8"
    },
    {
      "cell_type": "code",
      "source": [
        "star_wars_list = [\"Anakin\", \"Darth Vader\", 1000]\n",
        "print(star_wars_list)\n",
        "star_wars_tup = (\"Anakin\", \"Darth Vader\", 1000)\n",
        "print(star_wars_tup)\n",
        "star_wars_dict = {1: \"Anakin\", 2: \"Darth Vader\", 3: 1000}\n",
        "print(star_wars_dict)\n",
        "\n",
        "star_wars_set = set(star_wars_list)\n",
        "print(star_wars_set)\n",
        "\n",
        "star_wars_set = set(star_wars_tup)\n",
        "print(star_wars_set)\n",
        "\n",
        "star_wars_set = set(star_wars_dict)\n",
        "print(star_wars_set)"
      ],
      "outputs": [
        {
          "output_type": "stream",
          "name": "stdout",
          "text": [
            "['Anakin', 'Darth Vader', 1000]\n",
            "('Anakin', 'Darth Vader', 1000)\n",
            "{1: 'Anakin', 2: 'Darth Vader', 3: 1000}\n",
            "{'Darth Vader', 1000, 'Anakin'}\n",
            "{'Darth Vader', 1000, 'Anakin'}\n",
            "{1, 2, 3}\n"
          ]
        }
      ],
      "execution_count": null,
      "metadata": {
        "deletable": false,
        "nbgrader": {
          "cell_type": "code",
          "checksum": "dabb2999a94b3c25acfc1ec534878568",
          "grade": true,
          "grade_id": "cell-9e1afcc08a39b72b",
          "locked": false,
          "points": 1,
          "schema_version": 3,
          "solution": true,
          "task": false
        },
        "noteable": {},
        "ExecuteTime": {
          "end_time": "2023-09-17T03:44:09.000966+00:00",
          "start_time": "2023-09-17T03:44:08.845531+00:00"
        }
      },
      "id": "e1beeefb"
    },
    {
      "cell_type": "markdown",
      "source": [
        "Write code in the cell below.\n",
        "\n",
        "* Convert the following data structures into a dictionary and print the result for each conversion."
      ],
      "metadata": {
        "deletable": false,
        "editable": false,
        "nbgrader": {
          "cell_type": "markdown",
          "checksum": "1b1aa50e94677ebb152a8335ee31b9dd",
          "grade": false,
          "grade_id": "cell-27977cf841610390",
          "locked": true,
          "schema_version": 3,
          "solution": false,
          "task": false
        }
      },
      "id": "9453abc9"
    },
    {
      "cell_type": "code",
      "source": [
        "star_wars_list = [[1,\"Anakin\"], [2,\"Darth Vader\"], [3, 1000]]\n",
        "print (star_wars_list)\n",
        "star_wars_tup = ((1, \"Anakin\"), (2, \"Darth Vader\"), (3, 1000))\n",
        "print (star_wars_tup)\n",
        "star_wars_set = {(1, \"Anakin\"), (2, \"Darth Vader\"), (3, 1000)}\n",
        "print (star_wars_set)\n",
        "\n",
        "star_wars_dict = dict(star_wars_list)\n",
        "print(star_wars_dict)\n",
        "\n",
        "star_wars_dict = dict(star_wars_tup)\n",
        "print(star_wars_dict)\n",
        "\n",
        "star_wars_dict = dict(star_wars_set)\n",
        "print(star_wars_dict)"
      ],
      "outputs": [
        {
          "output_type": "stream",
          "name": "stdout",
          "text": [
            "[[1, 'Anakin'], [2, 'Darth Vader'], [3, 1000]]\n",
            "((1, 'Anakin'), (2, 'Darth Vader'), (3, 1000))\n",
            "{(1, 'Anakin'), (3, 1000), (2, 'Darth Vader')}\n",
            "{1: 'Anakin', 2: 'Darth Vader', 3: 1000}\n",
            "{1: 'Anakin', 2: 'Darth Vader', 3: 1000}\n",
            "{1: 'Anakin', 3: 1000, 2: 'Darth Vader'}\n"
          ]
        }
      ],
      "execution_count": null,
      "metadata": {
        "deletable": false,
        "nbgrader": {
          "cell_type": "code",
          "checksum": "e1b1e0499c7cb1ec4347a7cc0a7e78a1",
          "grade": true,
          "grade_id": "cell-620a0cc72abcbd87",
          "locked": false,
          "points": 1,
          "schema_version": 3,
          "solution": true,
          "task": false
        },
        "noteable": {},
        "ExecuteTime": {
          "end_time": "2023-09-17T03:46:45.085932+00:00",
          "start_time": "2023-09-17T03:46:44.929149+00:00"
        }
      },
      "id": "7570d1c3"
    }
  ],
  "metadata": {
    "kernelspec": {
      "name": "python3",
      "display_name": "Python 3.9",
      "language": "python"
    },
    "language_info": {
      "codemirror_mode": {
        "name": "ipython",
        "version": 3
      },
      "file_extension": ".py",
      "mimetype": "text/x-python",
      "name": "python",
      "nbconvert_exporter": "python",
      "pygments_lexer": "ipython3",
      "version": "3.8.8"
    },
    "selected_hardware_size": "small",
    "kernel_info": {
      "name": "python3"
    },
    "noteable": {
      "last_delta_id": "36501f80-a620-4540-a244-301bbb087a62"
    },
    "nteract": {
      "version": "noteable@2.9.0"
    }
  },
  "nbformat": 4,
  "nbformat_minor": 5
}